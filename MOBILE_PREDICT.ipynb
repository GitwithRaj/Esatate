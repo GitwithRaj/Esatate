{
  "cells": [
    {
      "cell_type": "markdown",
      "metadata": {
        "id": "view-in-github",
        "colab_type": "text"
      },
      "source": [
        "<a href=\"https://colab.research.google.com/github/GitwithRaj/Esatate/blob/master/MOBILE_PREDICT.ipynb\" target=\"_parent\"><img src=\"https://colab.research.google.com/assets/colab-badge.svg\" alt=\"Open In Colab\"/></a>"
      ]
    },
    {
      "cell_type": "code",
      "source": [
        "from google.colab import files\n",
        "uploaded = files.upload()"
      ],
      "metadata": {
        "colab": {
          "base_uri": "https://localhost:8080/",
          "height": 75
        },
        "id": "HNDJXCNbJZYA",
        "outputId": "bbedb26e-ca28-464d-c526-2267071820d6"
      },
      "id": "HNDJXCNbJZYA",
      "execution_count": 1,
      "outputs": [
        {
          "output_type": "display_data",
          "data": {
            "text/plain": [
              "<IPython.core.display.HTML object>"
            ],
            "text/html": [
              "\n",
              "     <input type=\"file\" id=\"files-a21ad3ec-420c-4238-8e4a-d2fb93918ccb\" name=\"files[]\" multiple disabled\n",
              "        style=\"border:none\" />\n",
              "     <output id=\"result-a21ad3ec-420c-4238-8e4a-d2fb93918ccb\">\n",
              "      Upload widget is only available when the cell has been executed in the\n",
              "      current browser session. Please rerun this cell to enable.\n",
              "      </output>\n",
              "      <script>// Copyright 2017 Google LLC\n",
              "//\n",
              "// Licensed under the Apache License, Version 2.0 (the \"License\");\n",
              "// you may not use this file except in compliance with the License.\n",
              "// You may obtain a copy of the License at\n",
              "//\n",
              "//      http://www.apache.org/licenses/LICENSE-2.0\n",
              "//\n",
              "// Unless required by applicable law or agreed to in writing, software\n",
              "// distributed under the License is distributed on an \"AS IS\" BASIS,\n",
              "// WITHOUT WARRANTIES OR CONDITIONS OF ANY KIND, either express or implied.\n",
              "// See the License for the specific language governing permissions and\n",
              "// limitations under the License.\n",
              "\n",
              "/**\n",
              " * @fileoverview Helpers for google.colab Python module.\n",
              " */\n",
              "(function(scope) {\n",
              "function span(text, styleAttributes = {}) {\n",
              "  const element = document.createElement('span');\n",
              "  element.textContent = text;\n",
              "  for (const key of Object.keys(styleAttributes)) {\n",
              "    element.style[key] = styleAttributes[key];\n",
              "  }\n",
              "  return element;\n",
              "}\n",
              "\n",
              "// Max number of bytes which will be uploaded at a time.\n",
              "const MAX_PAYLOAD_SIZE = 100 * 1024;\n",
              "\n",
              "function _uploadFiles(inputId, outputId) {\n",
              "  const steps = uploadFilesStep(inputId, outputId);\n",
              "  const outputElement = document.getElementById(outputId);\n",
              "  // Cache steps on the outputElement to make it available for the next call\n",
              "  // to uploadFilesContinue from Python.\n",
              "  outputElement.steps = steps;\n",
              "\n",
              "  return _uploadFilesContinue(outputId);\n",
              "}\n",
              "\n",
              "// This is roughly an async generator (not supported in the browser yet),\n",
              "// where there are multiple asynchronous steps and the Python side is going\n",
              "// to poll for completion of each step.\n",
              "// This uses a Promise to block the python side on completion of each step,\n",
              "// then passes the result of the previous step as the input to the next step.\n",
              "function _uploadFilesContinue(outputId) {\n",
              "  const outputElement = document.getElementById(outputId);\n",
              "  const steps = outputElement.steps;\n",
              "\n",
              "  const next = steps.next(outputElement.lastPromiseValue);\n",
              "  return Promise.resolve(next.value.promise).then((value) => {\n",
              "    // Cache the last promise value to make it available to the next\n",
              "    // step of the generator.\n",
              "    outputElement.lastPromiseValue = value;\n",
              "    return next.value.response;\n",
              "  });\n",
              "}\n",
              "\n",
              "/**\n",
              " * Generator function which is called between each async step of the upload\n",
              " * process.\n",
              " * @param {string} inputId Element ID of the input file picker element.\n",
              " * @param {string} outputId Element ID of the output display.\n",
              " * @return {!Iterable<!Object>} Iterable of next steps.\n",
              " */\n",
              "function* uploadFilesStep(inputId, outputId) {\n",
              "  const inputElement = document.getElementById(inputId);\n",
              "  inputElement.disabled = false;\n",
              "\n",
              "  const outputElement = document.getElementById(outputId);\n",
              "  outputElement.innerHTML = '';\n",
              "\n",
              "  const pickedPromise = new Promise((resolve) => {\n",
              "    inputElement.addEventListener('change', (e) => {\n",
              "      resolve(e.target.files);\n",
              "    });\n",
              "  });\n",
              "\n",
              "  const cancel = document.createElement('button');\n",
              "  inputElement.parentElement.appendChild(cancel);\n",
              "  cancel.textContent = 'Cancel upload';\n",
              "  const cancelPromise = new Promise((resolve) => {\n",
              "    cancel.onclick = () => {\n",
              "      resolve(null);\n",
              "    };\n",
              "  });\n",
              "\n",
              "  // Wait for the user to pick the files.\n",
              "  const files = yield {\n",
              "    promise: Promise.race([pickedPromise, cancelPromise]),\n",
              "    response: {\n",
              "      action: 'starting',\n",
              "    }\n",
              "  };\n",
              "\n",
              "  cancel.remove();\n",
              "\n",
              "  // Disable the input element since further picks are not allowed.\n",
              "  inputElement.disabled = true;\n",
              "\n",
              "  if (!files) {\n",
              "    return {\n",
              "      response: {\n",
              "        action: 'complete',\n",
              "      }\n",
              "    };\n",
              "  }\n",
              "\n",
              "  for (const file of files) {\n",
              "    const li = document.createElement('li');\n",
              "    li.append(span(file.name, {fontWeight: 'bold'}));\n",
              "    li.append(span(\n",
              "        `(${file.type || 'n/a'}) - ${file.size} bytes, ` +\n",
              "        `last modified: ${\n",
              "            file.lastModifiedDate ? file.lastModifiedDate.toLocaleDateString() :\n",
              "                                    'n/a'} - `));\n",
              "    const percent = span('0% done');\n",
              "    li.appendChild(percent);\n",
              "\n",
              "    outputElement.appendChild(li);\n",
              "\n",
              "    const fileDataPromise = new Promise((resolve) => {\n",
              "      const reader = new FileReader();\n",
              "      reader.onload = (e) => {\n",
              "        resolve(e.target.result);\n",
              "      };\n",
              "      reader.readAsArrayBuffer(file);\n",
              "    });\n",
              "    // Wait for the data to be ready.\n",
              "    let fileData = yield {\n",
              "      promise: fileDataPromise,\n",
              "      response: {\n",
              "        action: 'continue',\n",
              "      }\n",
              "    };\n",
              "\n",
              "    // Use a chunked sending to avoid message size limits. See b/62115660.\n",
              "    let position = 0;\n",
              "    do {\n",
              "      const length = Math.min(fileData.byteLength - position, MAX_PAYLOAD_SIZE);\n",
              "      const chunk = new Uint8Array(fileData, position, length);\n",
              "      position += length;\n",
              "\n",
              "      const base64 = btoa(String.fromCharCode.apply(null, chunk));\n",
              "      yield {\n",
              "        response: {\n",
              "          action: 'append',\n",
              "          file: file.name,\n",
              "          data: base64,\n",
              "        },\n",
              "      };\n",
              "\n",
              "      let percentDone = fileData.byteLength === 0 ?\n",
              "          100 :\n",
              "          Math.round((position / fileData.byteLength) * 100);\n",
              "      percent.textContent = `${percentDone}% done`;\n",
              "\n",
              "    } while (position < fileData.byteLength);\n",
              "  }\n",
              "\n",
              "  // All done.\n",
              "  yield {\n",
              "    response: {\n",
              "      action: 'complete',\n",
              "    }\n",
              "  };\n",
              "}\n",
              "\n",
              "scope.google = scope.google || {};\n",
              "scope.google.colab = scope.google.colab || {};\n",
              "scope.google.colab._files = {\n",
              "  _uploadFiles,\n",
              "  _uploadFilesContinue,\n",
              "};\n",
              "})(self);\n",
              "</script> "
            ]
          },
          "metadata": {}
        },
        {
          "output_type": "stream",
          "name": "stdout",
          "text": [
            "Saving Mobile phone price.csv to Mobile phone price.csv\n"
          ]
        }
      ]
    },
    {
      "cell_type": "code",
      "source": [
        "import pandas as pd\n",
        "import io\n",
        " \n",
        "df = pd.read_csv(io.BytesIO(uploaded['Mobile phone price.csv']))\n",
        "df"
      ],
      "metadata": {
        "colab": {
          "base_uri": "https://localhost:8080/",
          "height": 424
        },
        "id": "4ieC1jfxJhlN",
        "outputId": "a7adaccf-85eb-46e3-98d4-c76e1d7518d9"
      },
      "id": "4ieC1jfxJhlN",
      "execution_count": 2,
      "outputs": [
        {
          "output_type": "execute_result",
          "data": {
            "text/plain": [
              "       Brand              Model Storage    RAM  Screen Size (inches)  \\\n",
              "0      Apple      iPhone 13 Pro   128 GB   6 GB                  6.1   \n",
              "1    Samsung   Galaxy S21 Ultra   256 GB  12 GB                  6.8   \n",
              "2    OnePlus              9 Pro   128 GB   8 GB                  6.7   \n",
              "3     Xiaomi  Redmi Note 10 Pro   128 GB   6 GB                 6.67   \n",
              "4     Google            Pixel 6   128 GB   8 GB                  6.4   \n",
              "..       ...                ...      ...    ...                  ...   \n",
              "402  Samsung   Galaxy Note20 5G      128      8                  6.7   \n",
              "403   Xiaomi      Mi 10 Lite 5G      128      6                 6.57   \n",
              "404    Apple  iPhone 12 Pro Max      128      6                  6.7   \n",
              "405     Oppo              Reno3      128      8                  6.4   \n",
              "406  Samsung    Galaxy S10 Lite      128      6                  6.7   \n",
              "\n",
              "            Camera (MP)  Battery Capacity (mAh) Price ($)  \n",
              "0          12 + 12 + 12                    3095       999  \n",
              "1    108 + 10 + 10 + 12                    5000      1199  \n",
              "2       48 + 50 + 8 + 2                    4500       899  \n",
              "3        64 + 8 + 5 + 2                    5020       279  \n",
              "4             50 + 12.2                    4614       799  \n",
              "..                  ...                     ...       ...  \n",
              "402            12+64+12                    4300      1049  \n",
              "403            48+8+2+2                    4160       349  \n",
              "404            12+12+12                    3687      1099  \n",
              "405           48+13+8+2                    4025       429  \n",
              "406             48+12+5                    4500       649  \n",
              "\n",
              "[407 rows x 8 columns]"
            ],
            "text/html": [
              "\n",
              "  <div id=\"df-899aa63c-d88e-4d51-bc2a-0deb0352ac6c\">\n",
              "    <div class=\"colab-df-container\">\n",
              "      <div>\n",
              "<style scoped>\n",
              "    .dataframe tbody tr th:only-of-type {\n",
              "        vertical-align: middle;\n",
              "    }\n",
              "\n",
              "    .dataframe tbody tr th {\n",
              "        vertical-align: top;\n",
              "    }\n",
              "\n",
              "    .dataframe thead th {\n",
              "        text-align: right;\n",
              "    }\n",
              "</style>\n",
              "<table border=\"1\" class=\"dataframe\">\n",
              "  <thead>\n",
              "    <tr style=\"text-align: right;\">\n",
              "      <th></th>\n",
              "      <th>Brand</th>\n",
              "      <th>Model</th>\n",
              "      <th>Storage</th>\n",
              "      <th>RAM</th>\n",
              "      <th>Screen Size (inches)</th>\n",
              "      <th>Camera (MP)</th>\n",
              "      <th>Battery Capacity (mAh)</th>\n",
              "      <th>Price ($)</th>\n",
              "    </tr>\n",
              "  </thead>\n",
              "  <tbody>\n",
              "    <tr>\n",
              "      <th>0</th>\n",
              "      <td>Apple</td>\n",
              "      <td>iPhone 13 Pro</td>\n",
              "      <td>128 GB</td>\n",
              "      <td>6 GB</td>\n",
              "      <td>6.1</td>\n",
              "      <td>12 + 12 + 12</td>\n",
              "      <td>3095</td>\n",
              "      <td>999</td>\n",
              "    </tr>\n",
              "    <tr>\n",
              "      <th>1</th>\n",
              "      <td>Samsung</td>\n",
              "      <td>Galaxy S21 Ultra</td>\n",
              "      <td>256 GB</td>\n",
              "      <td>12 GB</td>\n",
              "      <td>6.8</td>\n",
              "      <td>108 + 10 + 10 + 12</td>\n",
              "      <td>5000</td>\n",
              "      <td>1199</td>\n",
              "    </tr>\n",
              "    <tr>\n",
              "      <th>2</th>\n",
              "      <td>OnePlus</td>\n",
              "      <td>9 Pro</td>\n",
              "      <td>128 GB</td>\n",
              "      <td>8 GB</td>\n",
              "      <td>6.7</td>\n",
              "      <td>48 + 50 + 8 + 2</td>\n",
              "      <td>4500</td>\n",
              "      <td>899</td>\n",
              "    </tr>\n",
              "    <tr>\n",
              "      <th>3</th>\n",
              "      <td>Xiaomi</td>\n",
              "      <td>Redmi Note 10 Pro</td>\n",
              "      <td>128 GB</td>\n",
              "      <td>6 GB</td>\n",
              "      <td>6.67</td>\n",
              "      <td>64 + 8 + 5 + 2</td>\n",
              "      <td>5020</td>\n",
              "      <td>279</td>\n",
              "    </tr>\n",
              "    <tr>\n",
              "      <th>4</th>\n",
              "      <td>Google</td>\n",
              "      <td>Pixel 6</td>\n",
              "      <td>128 GB</td>\n",
              "      <td>8 GB</td>\n",
              "      <td>6.4</td>\n",
              "      <td>50 + 12.2</td>\n",
              "      <td>4614</td>\n",
              "      <td>799</td>\n",
              "    </tr>\n",
              "    <tr>\n",
              "      <th>...</th>\n",
              "      <td>...</td>\n",
              "      <td>...</td>\n",
              "      <td>...</td>\n",
              "      <td>...</td>\n",
              "      <td>...</td>\n",
              "      <td>...</td>\n",
              "      <td>...</td>\n",
              "      <td>...</td>\n",
              "    </tr>\n",
              "    <tr>\n",
              "      <th>402</th>\n",
              "      <td>Samsung</td>\n",
              "      <td>Galaxy Note20 5G</td>\n",
              "      <td>128</td>\n",
              "      <td>8</td>\n",
              "      <td>6.7</td>\n",
              "      <td>12+64+12</td>\n",
              "      <td>4300</td>\n",
              "      <td>1049</td>\n",
              "    </tr>\n",
              "    <tr>\n",
              "      <th>403</th>\n",
              "      <td>Xiaomi</td>\n",
              "      <td>Mi 10 Lite 5G</td>\n",
              "      <td>128</td>\n",
              "      <td>6</td>\n",
              "      <td>6.57</td>\n",
              "      <td>48+8+2+2</td>\n",
              "      <td>4160</td>\n",
              "      <td>349</td>\n",
              "    </tr>\n",
              "    <tr>\n",
              "      <th>404</th>\n",
              "      <td>Apple</td>\n",
              "      <td>iPhone 12 Pro Max</td>\n",
              "      <td>128</td>\n",
              "      <td>6</td>\n",
              "      <td>6.7</td>\n",
              "      <td>12+12+12</td>\n",
              "      <td>3687</td>\n",
              "      <td>1099</td>\n",
              "    </tr>\n",
              "    <tr>\n",
              "      <th>405</th>\n",
              "      <td>Oppo</td>\n",
              "      <td>Reno3</td>\n",
              "      <td>128</td>\n",
              "      <td>8</td>\n",
              "      <td>6.4</td>\n",
              "      <td>48+13+8+2</td>\n",
              "      <td>4025</td>\n",
              "      <td>429</td>\n",
              "    </tr>\n",
              "    <tr>\n",
              "      <th>406</th>\n",
              "      <td>Samsung</td>\n",
              "      <td>Galaxy S10 Lite</td>\n",
              "      <td>128</td>\n",
              "      <td>6</td>\n",
              "      <td>6.7</td>\n",
              "      <td>48+12+5</td>\n",
              "      <td>4500</td>\n",
              "      <td>649</td>\n",
              "    </tr>\n",
              "  </tbody>\n",
              "</table>\n",
              "<p>407 rows × 8 columns</p>\n",
              "</div>\n",
              "      <button class=\"colab-df-convert\" onclick=\"convertToInteractive('df-899aa63c-d88e-4d51-bc2a-0deb0352ac6c')\"\n",
              "              title=\"Convert this dataframe to an interactive table.\"\n",
              "              style=\"display:none;\">\n",
              "        \n",
              "  <svg xmlns=\"http://www.w3.org/2000/svg\" height=\"24px\"viewBox=\"0 0 24 24\"\n",
              "       width=\"24px\">\n",
              "    <path d=\"M0 0h24v24H0V0z\" fill=\"none\"/>\n",
              "    <path d=\"M18.56 5.44l.94 2.06.94-2.06 2.06-.94-2.06-.94-.94-2.06-.94 2.06-2.06.94zm-11 1L8.5 8.5l.94-2.06 2.06-.94-2.06-.94L8.5 2.5l-.94 2.06-2.06.94zm10 10l.94 2.06.94-2.06 2.06-.94-2.06-.94-.94-2.06-.94 2.06-2.06.94z\"/><path d=\"M17.41 7.96l-1.37-1.37c-.4-.4-.92-.59-1.43-.59-.52 0-1.04.2-1.43.59L10.3 9.45l-7.72 7.72c-.78.78-.78 2.05 0 2.83L4 21.41c.39.39.9.59 1.41.59.51 0 1.02-.2 1.41-.59l7.78-7.78 2.81-2.81c.8-.78.8-2.07 0-2.86zM5.41 20L4 18.59l7.72-7.72 1.47 1.35L5.41 20z\"/>\n",
              "  </svg>\n",
              "      </button>\n",
              "      \n",
              "  <style>\n",
              "    .colab-df-container {\n",
              "      display:flex;\n",
              "      flex-wrap:wrap;\n",
              "      gap: 12px;\n",
              "    }\n",
              "\n",
              "    .colab-df-convert {\n",
              "      background-color: #E8F0FE;\n",
              "      border: none;\n",
              "      border-radius: 50%;\n",
              "      cursor: pointer;\n",
              "      display: none;\n",
              "      fill: #1967D2;\n",
              "      height: 32px;\n",
              "      padding: 0 0 0 0;\n",
              "      width: 32px;\n",
              "    }\n",
              "\n",
              "    .colab-df-convert:hover {\n",
              "      background-color: #E2EBFA;\n",
              "      box-shadow: 0px 1px 2px rgba(60, 64, 67, 0.3), 0px 1px 3px 1px rgba(60, 64, 67, 0.15);\n",
              "      fill: #174EA6;\n",
              "    }\n",
              "\n",
              "    [theme=dark] .colab-df-convert {\n",
              "      background-color: #3B4455;\n",
              "      fill: #D2E3FC;\n",
              "    }\n",
              "\n",
              "    [theme=dark] .colab-df-convert:hover {\n",
              "      background-color: #434B5C;\n",
              "      box-shadow: 0px 1px 3px 1px rgba(0, 0, 0, 0.15);\n",
              "      filter: drop-shadow(0px 1px 2px rgba(0, 0, 0, 0.3));\n",
              "      fill: #FFFFFF;\n",
              "    }\n",
              "  </style>\n",
              "\n",
              "      <script>\n",
              "        const buttonEl =\n",
              "          document.querySelector('#df-899aa63c-d88e-4d51-bc2a-0deb0352ac6c button.colab-df-convert');\n",
              "        buttonEl.style.display =\n",
              "          google.colab.kernel.accessAllowed ? 'block' : 'none';\n",
              "\n",
              "        async function convertToInteractive(key) {\n",
              "          const element = document.querySelector('#df-899aa63c-d88e-4d51-bc2a-0deb0352ac6c');\n",
              "          const dataTable =\n",
              "            await google.colab.kernel.invokeFunction('convertToInteractive',\n",
              "                                                     [key], {});\n",
              "          if (!dataTable) return;\n",
              "\n",
              "          const docLinkHtml = 'Like what you see? Visit the ' +\n",
              "            '<a target=\"_blank\" href=https://colab.research.google.com/notebooks/data_table.ipynb>data table notebook</a>'\n",
              "            + ' to learn more about interactive tables.';\n",
              "          element.innerHTML = '';\n",
              "          dataTable['output_type'] = 'display_data';\n",
              "          await google.colab.output.renderOutput(dataTable, element);\n",
              "          const docLink = document.createElement('div');\n",
              "          docLink.innerHTML = docLinkHtml;\n",
              "          element.appendChild(docLink);\n",
              "        }\n",
              "      </script>\n",
              "    </div>\n",
              "  </div>\n",
              "  "
            ]
          },
          "metadata": {},
          "execution_count": 2
        }
      ]
    },
    {
      "cell_type": "code",
      "execution_count": 3,
      "id": "2b90b689",
      "metadata": {
        "id": "2b90b689"
      },
      "outputs": [],
      "source": [
        "import pandas as pd\n",
        "import numpy as np"
      ]
    },
    {
      "cell_type": "code",
      "execution_count": 4,
      "id": "88068fa5",
      "metadata": {
        "colab": {
          "base_uri": "https://localhost:8080/"
        },
        "id": "88068fa5",
        "outputId": "60b6c7a4-3144-4154-a380-0920257c8fc6"
      },
      "outputs": [
        {
          "output_type": "stream",
          "name": "stdout",
          "text": [
            "<class 'pandas.core.frame.DataFrame'>\n",
            "RangeIndex: 407 entries, 0 to 406\n",
            "Data columns (total 8 columns):\n",
            " #   Column                  Non-Null Count  Dtype \n",
            "---  ------                  --------------  ----- \n",
            " 0   Brand                   407 non-null    object\n",
            " 1   Model                   407 non-null    object\n",
            " 2   Storage                 407 non-null    object\n",
            " 3   RAM                     407 non-null    object\n",
            " 4   Screen Size (inches)    407 non-null    object\n",
            " 5   Camera (MP)             407 non-null    object\n",
            " 6   Battery Capacity (mAh)  407 non-null    int64 \n",
            " 7   Price ($)               407 non-null    object\n",
            "dtypes: int64(1), object(7)\n",
            "memory usage: 25.6+ KB\n"
          ]
        }
      ],
      "source": [
        "df.info()"
      ]
    },
    {
      "cell_type": "code",
      "execution_count": 5,
      "id": "f5b0aed0",
      "metadata": {
        "id": "f5b0aed0"
      },
      "outputs": [],
      "source": [
        "X= df.iloc[:,0:7]\n",
        "\n",
        "X['Brand'] = pd.factorize(X['Brand'])[0]\n",
        "X['Model'] = pd.factorize(X['Model'])[0]\n"
      ]
    },
    {
      "cell_type": "code",
      "execution_count": 6,
      "id": "d849f9da",
      "metadata": {
        "colab": {
          "base_uri": "https://localhost:8080/"
        },
        "id": "d849f9da",
        "outputId": "aeb2e80d-562e-4eb3-ae9d-b952a8304b7c"
      },
      "outputs": [
        {
          "output_type": "stream",
          "name": "stdout",
          "text": [
            "<class 'pandas.core.frame.DataFrame'>\n",
            "RangeIndex: 407 entries, 0 to 406\n",
            "Data columns (total 7 columns):\n",
            " #   Column                  Non-Null Count  Dtype \n",
            "---  ------                  --------------  ----- \n",
            " 0   Brand                   407 non-null    int64 \n",
            " 1   Model                   407 non-null    int64 \n",
            " 2   Storage                 407 non-null    object\n",
            " 3   RAM                     407 non-null    object\n",
            " 4   Screen Size (inches)    407 non-null    object\n",
            " 5   Camera (MP)             407 non-null    object\n",
            " 6   Battery Capacity (mAh)  407 non-null    int64 \n",
            "dtypes: int64(3), object(4)\n",
            "memory usage: 22.4+ KB\n"
          ]
        }
      ],
      "source": [
        "\n",
        "X.info()"
      ]
    },
    {
      "cell_type": "code",
      "execution_count": 7,
      "id": "ca352cb5",
      "metadata": {
        "colab": {
          "base_uri": "https://localhost:8080/",
          "height": 424
        },
        "id": "ca352cb5",
        "outputId": "7b2fd500-f16d-4efc-8171-6b3189ab64ba"
      },
      "outputs": [
        {
          "output_type": "execute_result",
          "data": {
            "text/plain": [
              "     Brand  Model Storage    RAM  Screen Size (inches)         Camera (MP)  \\\n",
              "0        0      0   128 GB   6 GB                  6.1        12 + 12 + 12   \n",
              "1        1      1   256 GB  12 GB                  6.8  108 + 10 + 10 + 12   \n",
              "2        2      2   128 GB   8 GB                  6.7     48 + 50 + 8 + 2   \n",
              "3        3      3   128 GB   6 GB                 6.67      64 + 8 + 5 + 2   \n",
              "4        4      4   128 GB   8 GB                  6.4           50 + 12.2   \n",
              "..     ...    ...      ...    ...                  ...                 ...   \n",
              "402      1    222      128      8                  6.7            12+64+12   \n",
              "403      3    236      128      6                 6.57            48+8+2+2   \n",
              "404      0    237      128      6                  6.7            12+12+12   \n",
              "405      5    238      128      8                  6.4           48+13+8+2   \n",
              "406      1    199      128      6                  6.7             48+12+5   \n",
              "\n",
              "     Battery Capacity (mAh)  \n",
              "0                      3095  \n",
              "1                      5000  \n",
              "2                      4500  \n",
              "3                      5020  \n",
              "4                      4614  \n",
              "..                      ...  \n",
              "402                    4300  \n",
              "403                    4160  \n",
              "404                    3687  \n",
              "405                    4025  \n",
              "406                    4500  \n",
              "\n",
              "[407 rows x 7 columns]"
            ],
            "text/html": [
              "\n",
              "  <div id=\"df-7a81361a-2c6a-4312-8dda-ef3f6ef8b8ce\">\n",
              "    <div class=\"colab-df-container\">\n",
              "      <div>\n",
              "<style scoped>\n",
              "    .dataframe tbody tr th:only-of-type {\n",
              "        vertical-align: middle;\n",
              "    }\n",
              "\n",
              "    .dataframe tbody tr th {\n",
              "        vertical-align: top;\n",
              "    }\n",
              "\n",
              "    .dataframe thead th {\n",
              "        text-align: right;\n",
              "    }\n",
              "</style>\n",
              "<table border=\"1\" class=\"dataframe\">\n",
              "  <thead>\n",
              "    <tr style=\"text-align: right;\">\n",
              "      <th></th>\n",
              "      <th>Brand</th>\n",
              "      <th>Model</th>\n",
              "      <th>Storage</th>\n",
              "      <th>RAM</th>\n",
              "      <th>Screen Size (inches)</th>\n",
              "      <th>Camera (MP)</th>\n",
              "      <th>Battery Capacity (mAh)</th>\n",
              "    </tr>\n",
              "  </thead>\n",
              "  <tbody>\n",
              "    <tr>\n",
              "      <th>0</th>\n",
              "      <td>0</td>\n",
              "      <td>0</td>\n",
              "      <td>128 GB</td>\n",
              "      <td>6 GB</td>\n",
              "      <td>6.1</td>\n",
              "      <td>12 + 12 + 12</td>\n",
              "      <td>3095</td>\n",
              "    </tr>\n",
              "    <tr>\n",
              "      <th>1</th>\n",
              "      <td>1</td>\n",
              "      <td>1</td>\n",
              "      <td>256 GB</td>\n",
              "      <td>12 GB</td>\n",
              "      <td>6.8</td>\n",
              "      <td>108 + 10 + 10 + 12</td>\n",
              "      <td>5000</td>\n",
              "    </tr>\n",
              "    <tr>\n",
              "      <th>2</th>\n",
              "      <td>2</td>\n",
              "      <td>2</td>\n",
              "      <td>128 GB</td>\n",
              "      <td>8 GB</td>\n",
              "      <td>6.7</td>\n",
              "      <td>48 + 50 + 8 + 2</td>\n",
              "      <td>4500</td>\n",
              "    </tr>\n",
              "    <tr>\n",
              "      <th>3</th>\n",
              "      <td>3</td>\n",
              "      <td>3</td>\n",
              "      <td>128 GB</td>\n",
              "      <td>6 GB</td>\n",
              "      <td>6.67</td>\n",
              "      <td>64 + 8 + 5 + 2</td>\n",
              "      <td>5020</td>\n",
              "    </tr>\n",
              "    <tr>\n",
              "      <th>4</th>\n",
              "      <td>4</td>\n",
              "      <td>4</td>\n",
              "      <td>128 GB</td>\n",
              "      <td>8 GB</td>\n",
              "      <td>6.4</td>\n",
              "      <td>50 + 12.2</td>\n",
              "      <td>4614</td>\n",
              "    </tr>\n",
              "    <tr>\n",
              "      <th>...</th>\n",
              "      <td>...</td>\n",
              "      <td>...</td>\n",
              "      <td>...</td>\n",
              "      <td>...</td>\n",
              "      <td>...</td>\n",
              "      <td>...</td>\n",
              "      <td>...</td>\n",
              "    </tr>\n",
              "    <tr>\n",
              "      <th>402</th>\n",
              "      <td>1</td>\n",
              "      <td>222</td>\n",
              "      <td>128</td>\n",
              "      <td>8</td>\n",
              "      <td>6.7</td>\n",
              "      <td>12+64+12</td>\n",
              "      <td>4300</td>\n",
              "    </tr>\n",
              "    <tr>\n",
              "      <th>403</th>\n",
              "      <td>3</td>\n",
              "      <td>236</td>\n",
              "      <td>128</td>\n",
              "      <td>6</td>\n",
              "      <td>6.57</td>\n",
              "      <td>48+8+2+2</td>\n",
              "      <td>4160</td>\n",
              "    </tr>\n",
              "    <tr>\n",
              "      <th>404</th>\n",
              "      <td>0</td>\n",
              "      <td>237</td>\n",
              "      <td>128</td>\n",
              "      <td>6</td>\n",
              "      <td>6.7</td>\n",
              "      <td>12+12+12</td>\n",
              "      <td>3687</td>\n",
              "    </tr>\n",
              "    <tr>\n",
              "      <th>405</th>\n",
              "      <td>5</td>\n",
              "      <td>238</td>\n",
              "      <td>128</td>\n",
              "      <td>8</td>\n",
              "      <td>6.4</td>\n",
              "      <td>48+13+8+2</td>\n",
              "      <td>4025</td>\n",
              "    </tr>\n",
              "    <tr>\n",
              "      <th>406</th>\n",
              "      <td>1</td>\n",
              "      <td>199</td>\n",
              "      <td>128</td>\n",
              "      <td>6</td>\n",
              "      <td>6.7</td>\n",
              "      <td>48+12+5</td>\n",
              "      <td>4500</td>\n",
              "    </tr>\n",
              "  </tbody>\n",
              "</table>\n",
              "<p>407 rows × 7 columns</p>\n",
              "</div>\n",
              "      <button class=\"colab-df-convert\" onclick=\"convertToInteractive('df-7a81361a-2c6a-4312-8dda-ef3f6ef8b8ce')\"\n",
              "              title=\"Convert this dataframe to an interactive table.\"\n",
              "              style=\"display:none;\">\n",
              "        \n",
              "  <svg xmlns=\"http://www.w3.org/2000/svg\" height=\"24px\"viewBox=\"0 0 24 24\"\n",
              "       width=\"24px\">\n",
              "    <path d=\"M0 0h24v24H0V0z\" fill=\"none\"/>\n",
              "    <path d=\"M18.56 5.44l.94 2.06.94-2.06 2.06-.94-2.06-.94-.94-2.06-.94 2.06-2.06.94zm-11 1L8.5 8.5l.94-2.06 2.06-.94-2.06-.94L8.5 2.5l-.94 2.06-2.06.94zm10 10l.94 2.06.94-2.06 2.06-.94-2.06-.94-.94-2.06-.94 2.06-2.06.94z\"/><path d=\"M17.41 7.96l-1.37-1.37c-.4-.4-.92-.59-1.43-.59-.52 0-1.04.2-1.43.59L10.3 9.45l-7.72 7.72c-.78.78-.78 2.05 0 2.83L4 21.41c.39.39.9.59 1.41.59.51 0 1.02-.2 1.41-.59l7.78-7.78 2.81-2.81c.8-.78.8-2.07 0-2.86zM5.41 20L4 18.59l7.72-7.72 1.47 1.35L5.41 20z\"/>\n",
              "  </svg>\n",
              "      </button>\n",
              "      \n",
              "  <style>\n",
              "    .colab-df-container {\n",
              "      display:flex;\n",
              "      flex-wrap:wrap;\n",
              "      gap: 12px;\n",
              "    }\n",
              "\n",
              "    .colab-df-convert {\n",
              "      background-color: #E8F0FE;\n",
              "      border: none;\n",
              "      border-radius: 50%;\n",
              "      cursor: pointer;\n",
              "      display: none;\n",
              "      fill: #1967D2;\n",
              "      height: 32px;\n",
              "      padding: 0 0 0 0;\n",
              "      width: 32px;\n",
              "    }\n",
              "\n",
              "    .colab-df-convert:hover {\n",
              "      background-color: #E2EBFA;\n",
              "      box-shadow: 0px 1px 2px rgba(60, 64, 67, 0.3), 0px 1px 3px 1px rgba(60, 64, 67, 0.15);\n",
              "      fill: #174EA6;\n",
              "    }\n",
              "\n",
              "    [theme=dark] .colab-df-convert {\n",
              "      background-color: #3B4455;\n",
              "      fill: #D2E3FC;\n",
              "    }\n",
              "\n",
              "    [theme=dark] .colab-df-convert:hover {\n",
              "      background-color: #434B5C;\n",
              "      box-shadow: 0px 1px 3px 1px rgba(0, 0, 0, 0.15);\n",
              "      filter: drop-shadow(0px 1px 2px rgba(0, 0, 0, 0.3));\n",
              "      fill: #FFFFFF;\n",
              "    }\n",
              "  </style>\n",
              "\n",
              "      <script>\n",
              "        const buttonEl =\n",
              "          document.querySelector('#df-7a81361a-2c6a-4312-8dda-ef3f6ef8b8ce button.colab-df-convert');\n",
              "        buttonEl.style.display =\n",
              "          google.colab.kernel.accessAllowed ? 'block' : 'none';\n",
              "\n",
              "        async function convertToInteractive(key) {\n",
              "          const element = document.querySelector('#df-7a81361a-2c6a-4312-8dda-ef3f6ef8b8ce');\n",
              "          const dataTable =\n",
              "            await google.colab.kernel.invokeFunction('convertToInteractive',\n",
              "                                                     [key], {});\n",
              "          if (!dataTable) return;\n",
              "\n",
              "          const docLinkHtml = 'Like what you see? Visit the ' +\n",
              "            '<a target=\"_blank\" href=https://colab.research.google.com/notebooks/data_table.ipynb>data table notebook</a>'\n",
              "            + ' to learn more about interactive tables.';\n",
              "          element.innerHTML = '';\n",
              "          dataTable['output_type'] = 'display_data';\n",
              "          await google.colab.output.renderOutput(dataTable, element);\n",
              "          const docLink = document.createElement('div');\n",
              "          docLink.innerHTML = docLinkHtml;\n",
              "          element.appendChild(docLink);\n",
              "        }\n",
              "      </script>\n",
              "    </div>\n",
              "  </div>\n",
              "  "
            ]
          },
          "metadata": {},
          "execution_count": 7
        }
      ],
      "source": [
        "\n",
        "X"
      ]
    },
    {
      "cell_type": "code",
      "source": [
        "for i in range(len(X['Storage '])):\n",
        "    a=\"\"\n",
        "    s=X['Storage '][i]\n",
        "    for j in range(len(s)):\n",
        "        if(s[j]!=' ' and s[j]!='G'):\n",
        "            a=a+s[j]\n",
        "        else:\n",
        "            break\n",
        "    X['Storage '][i]=a\n",
        "X['Storage ']  "
      ],
      "metadata": {
        "colab": {
          "base_uri": "https://localhost:8080/"
        },
        "id": "h1pdvU5bJ5vx",
        "outputId": "da7ca952-9fd6-4f94-e858-eb3136d32ba5"
      },
      "id": "h1pdvU5bJ5vx",
      "execution_count": 8,
      "outputs": [
        {
          "output_type": "stream",
          "name": "stderr",
          "text": [
            "<ipython-input-8-f3d6e24bf4f8>:9: SettingWithCopyWarning: \n",
            "A value is trying to be set on a copy of a slice from a DataFrame\n",
            "\n",
            "See the caveats in the documentation: https://pandas.pydata.org/pandas-docs/stable/user_guide/indexing.html#returning-a-view-versus-a-copy\n",
            "  X['Storage '][i]=a\n"
          ]
        },
        {
          "output_type": "execute_result",
          "data": {
            "text/plain": [
              "0      128\n",
              "1      256\n",
              "2      128\n",
              "3      128\n",
              "4      128\n",
              "      ... \n",
              "402    128\n",
              "403    128\n",
              "404    128\n",
              "405    128\n",
              "406    128\n",
              "Name: Storage , Length: 407, dtype: object"
            ]
          },
          "metadata": {},
          "execution_count": 8
        }
      ]
    },
    {
      "cell_type": "code",
      "source": [
        "for i in range(len(X['RAM '])):\n",
        "    a=\"\"\n",
        "    s=X['RAM '][i]\n",
        "    for j in range(len(s)):\n",
        "        if(s[j]!=' ' and s[j]!='G'):\n",
        "            a=a+s[j]\n",
        "        else:\n",
        "            break\n",
        "    X['RAM '][i]=a\n",
        "X['RAM ']  "
      ],
      "metadata": {
        "colab": {
          "base_uri": "https://localhost:8080/"
        },
        "id": "Wpf5Pt5IJ58u",
        "outputId": "0aa9adf8-eeed-47c3-cc06-2e6d0d4c61dc"
      },
      "id": "Wpf5Pt5IJ58u",
      "execution_count": 9,
      "outputs": [
        {
          "output_type": "stream",
          "name": "stderr",
          "text": [
            "<ipython-input-9-721fe70a2932>:9: SettingWithCopyWarning: \n",
            "A value is trying to be set on a copy of a slice from a DataFrame\n",
            "\n",
            "See the caveats in the documentation: https://pandas.pydata.org/pandas-docs/stable/user_guide/indexing.html#returning-a-view-versus-a-copy\n",
            "  X['RAM '][i]=a\n"
          ]
        },
        {
          "output_type": "execute_result",
          "data": {
            "text/plain": [
              "0       6\n",
              "1      12\n",
              "2       8\n",
              "3       6\n",
              "4       8\n",
              "       ..\n",
              "402     8\n",
              "403     6\n",
              "404     6\n",
              "405     8\n",
              "406     6\n",
              "Name: RAM , Length: 407, dtype: object"
            ]
          },
          "metadata": {},
          "execution_count": 9
        }
      ]
    },
    {
      "cell_type": "code",
      "source": [
        "for i in range(len(X['Camera (MP)'])):\n",
        "    a=\"\"\n",
        "    s=X['Camera (MP)'][i]\n",
        "    for j in range(len(s)):\n",
        "        if(s[j]!='+' and s[j]!='M'):\n",
        "            a=a+s[j]\n",
        "        else:\n",
        "            break\n",
        "    X['Camera (MP)'][i]=a\n",
        "X['Camera (MP)']  "
      ],
      "metadata": {
        "colab": {
          "base_uri": "https://localhost:8080/"
        },
        "id": "opw0VMKPJ6HG",
        "outputId": "00c5d9f6-efa3-44c9-f061-0c26931a1bac"
      },
      "id": "opw0VMKPJ6HG",
      "execution_count": 12,
      "outputs": [
        {
          "output_type": "stream",
          "name": "stderr",
          "text": [
            "<ipython-input-12-3b60cd2535ab>:9: SettingWithCopyWarning: \n",
            "A value is trying to be set on a copy of a slice from a DataFrame\n",
            "\n",
            "See the caveats in the documentation: https://pandas.pydata.org/pandas-docs/stable/user_guide/indexing.html#returning-a-view-versus-a-copy\n",
            "  X['Camera (MP)'][i]=a\n"
          ]
        },
        {
          "output_type": "execute_result",
          "data": {
            "text/plain": [
              "0       12\n",
              "1      108\n",
              "2       48\n",
              "3       64\n",
              "4       50\n",
              "      ... \n",
              "402     12\n",
              "403     48\n",
              "404     12\n",
              "405     48\n",
              "406     48\n",
              "Name: Camera (MP), Length: 407, dtype: object"
            ]
          },
          "metadata": {},
          "execution_count": 12
        }
      ]
    },
    {
      "cell_type": "code",
      "execution_count": 13,
      "id": "0ba22cf3",
      "metadata": {
        "colab": {
          "base_uri": "https://localhost:8080/"
        },
        "id": "0ba22cf3",
        "outputId": "b7323637-cc4d-4fbc-be04-ba7d0773a04f"
      },
      "outputs": [
        {
          "output_type": "stream",
          "name": "stderr",
          "text": [
            "<ipython-input-13-a4edc7402ead>:9: SettingWithCopyWarning: \n",
            "A value is trying to be set on a copy of a slice from a DataFrame\n",
            "\n",
            "See the caveats in the documentation: https://pandas.pydata.org/pandas-docs/stable/user_guide/indexing.html#returning-a-view-versus-a-copy\n",
            "  X['Screen Size (inches)'][i]=a\n"
          ]
        },
        {
          "output_type": "execute_result",
          "data": {
            "text/plain": [
              "0       6.1\n",
              "1       6.8\n",
              "2       6.7\n",
              "3      6.67\n",
              "4       6.4\n",
              "       ... \n",
              "402     6.7\n",
              "403    6.57\n",
              "404     6.7\n",
              "405     6.4\n",
              "406     6.7\n",
              "Name: Screen Size (inches), Length: 407, dtype: object"
            ]
          },
          "metadata": {},
          "execution_count": 13
        }
      ],
      "source": [
        "\n",
        "for i in range(len(X['Screen Size (inches)'])):\n",
        "    a=\"\"\n",
        "    s=X['Screen Size (inches)'][i]\n",
        "    for j in range(len(s)):\n",
        "        if(s[j]!=' '):\n",
        "            a=a+s[j]\n",
        "        else:\n",
        "            break\n",
        "    X['Screen Size (inches)'][i]=a\n",
        "X['Screen Size (inches)']  "
      ]
    },
    {
      "cell_type": "code",
      "execution_count": 16,
      "id": "1cf7b226",
      "metadata": {
        "colab": {
          "base_uri": "https://localhost:8080/"
        },
        "id": "1cf7b226",
        "outputId": "a0789e88-f728-4b5f-bfc8-71f3ae759a89"
      },
      "outputs": [
        {
          "output_type": "stream",
          "name": "stdout",
          "text": [
            "<class 'pandas.core.frame.DataFrame'>\n",
            "RangeIndex: 407 entries, 0 to 406\n",
            "Data columns (total 7 columns):\n",
            " #   Column                  Non-Null Count  Dtype  \n",
            "---  ------                  --------------  -----  \n",
            " 0   Brand                   407 non-null    int64  \n",
            " 1   Model                   407 non-null    int64  \n",
            " 2   Storage                 407 non-null    float64\n",
            " 3   RAM                     407 non-null    float64\n",
            " 4   Screen Size (inches)    407 non-null    float64\n",
            " 5   Camera (MP)             407 non-null    float64\n",
            " 6   Battery Capacity (mAh)  407 non-null    int64  \n",
            "dtypes: float64(4), int64(3)\n",
            "memory usage: 22.4 KB\n"
          ]
        }
      ],
      "source": [
        "X['Screen Size (inches)']=X['Screen Size (inches)'].astype(float)\n",
        "\n",
        "X['Camera (MP)']=X['Camera (MP)'].astype(float)\n",
        "X['Storage ']=X['Storage '].astype(float)\n",
        "X['RAM ']=X['RAM '].astype(float)\n",
        "X.info()"
      ]
    },
    {
      "cell_type": "code",
      "execution_count": 17,
      "id": "df79392e",
      "metadata": {
        "colab": {
          "base_uri": "https://localhost:8080/",
          "height": 424
        },
        "id": "df79392e",
        "outputId": "e03ff40c-656a-4250-d37a-451fd6970435"
      },
      "outputs": [
        {
          "output_type": "execute_result",
          "data": {
            "text/plain": [
              "    Price ($)\n",
              "0         999\n",
              "1        1199\n",
              "2         899\n",
              "3         279\n",
              "4         799\n",
              "..        ...\n",
              "402      1049\n",
              "403       349\n",
              "404      1099\n",
              "405       429\n",
              "406       649\n",
              "\n",
              "[407 rows x 1 columns]"
            ],
            "text/html": [
              "\n",
              "  <div id=\"df-355b134c-8b39-4314-8132-e9ced587f441\">\n",
              "    <div class=\"colab-df-container\">\n",
              "      <div>\n",
              "<style scoped>\n",
              "    .dataframe tbody tr th:only-of-type {\n",
              "        vertical-align: middle;\n",
              "    }\n",
              "\n",
              "    .dataframe tbody tr th {\n",
              "        vertical-align: top;\n",
              "    }\n",
              "\n",
              "    .dataframe thead th {\n",
              "        text-align: right;\n",
              "    }\n",
              "</style>\n",
              "<table border=\"1\" class=\"dataframe\">\n",
              "  <thead>\n",
              "    <tr style=\"text-align: right;\">\n",
              "      <th></th>\n",
              "      <th>Price ($)</th>\n",
              "    </tr>\n",
              "  </thead>\n",
              "  <tbody>\n",
              "    <tr>\n",
              "      <th>0</th>\n",
              "      <td>999</td>\n",
              "    </tr>\n",
              "    <tr>\n",
              "      <th>1</th>\n",
              "      <td>1199</td>\n",
              "    </tr>\n",
              "    <tr>\n",
              "      <th>2</th>\n",
              "      <td>899</td>\n",
              "    </tr>\n",
              "    <tr>\n",
              "      <th>3</th>\n",
              "      <td>279</td>\n",
              "    </tr>\n",
              "    <tr>\n",
              "      <th>4</th>\n",
              "      <td>799</td>\n",
              "    </tr>\n",
              "    <tr>\n",
              "      <th>...</th>\n",
              "      <td>...</td>\n",
              "    </tr>\n",
              "    <tr>\n",
              "      <th>402</th>\n",
              "      <td>1049</td>\n",
              "    </tr>\n",
              "    <tr>\n",
              "      <th>403</th>\n",
              "      <td>349</td>\n",
              "    </tr>\n",
              "    <tr>\n",
              "      <th>404</th>\n",
              "      <td>1099</td>\n",
              "    </tr>\n",
              "    <tr>\n",
              "      <th>405</th>\n",
              "      <td>429</td>\n",
              "    </tr>\n",
              "    <tr>\n",
              "      <th>406</th>\n",
              "      <td>649</td>\n",
              "    </tr>\n",
              "  </tbody>\n",
              "</table>\n",
              "<p>407 rows × 1 columns</p>\n",
              "</div>\n",
              "      <button class=\"colab-df-convert\" onclick=\"convertToInteractive('df-355b134c-8b39-4314-8132-e9ced587f441')\"\n",
              "              title=\"Convert this dataframe to an interactive table.\"\n",
              "              style=\"display:none;\">\n",
              "        \n",
              "  <svg xmlns=\"http://www.w3.org/2000/svg\" height=\"24px\"viewBox=\"0 0 24 24\"\n",
              "       width=\"24px\">\n",
              "    <path d=\"M0 0h24v24H0V0z\" fill=\"none\"/>\n",
              "    <path d=\"M18.56 5.44l.94 2.06.94-2.06 2.06-.94-2.06-.94-.94-2.06-.94 2.06-2.06.94zm-11 1L8.5 8.5l.94-2.06 2.06-.94-2.06-.94L8.5 2.5l-.94 2.06-2.06.94zm10 10l.94 2.06.94-2.06 2.06-.94-2.06-.94-.94-2.06-.94 2.06-2.06.94z\"/><path d=\"M17.41 7.96l-1.37-1.37c-.4-.4-.92-.59-1.43-.59-.52 0-1.04.2-1.43.59L10.3 9.45l-7.72 7.72c-.78.78-.78 2.05 0 2.83L4 21.41c.39.39.9.59 1.41.59.51 0 1.02-.2 1.41-.59l7.78-7.78 2.81-2.81c.8-.78.8-2.07 0-2.86zM5.41 20L4 18.59l7.72-7.72 1.47 1.35L5.41 20z\"/>\n",
              "  </svg>\n",
              "      </button>\n",
              "      \n",
              "  <style>\n",
              "    .colab-df-container {\n",
              "      display:flex;\n",
              "      flex-wrap:wrap;\n",
              "      gap: 12px;\n",
              "    }\n",
              "\n",
              "    .colab-df-convert {\n",
              "      background-color: #E8F0FE;\n",
              "      border: none;\n",
              "      border-radius: 50%;\n",
              "      cursor: pointer;\n",
              "      display: none;\n",
              "      fill: #1967D2;\n",
              "      height: 32px;\n",
              "      padding: 0 0 0 0;\n",
              "      width: 32px;\n",
              "    }\n",
              "\n",
              "    .colab-df-convert:hover {\n",
              "      background-color: #E2EBFA;\n",
              "      box-shadow: 0px 1px 2px rgba(60, 64, 67, 0.3), 0px 1px 3px 1px rgba(60, 64, 67, 0.15);\n",
              "      fill: #174EA6;\n",
              "    }\n",
              "\n",
              "    [theme=dark] .colab-df-convert {\n",
              "      background-color: #3B4455;\n",
              "      fill: #D2E3FC;\n",
              "    }\n",
              "\n",
              "    [theme=dark] .colab-df-convert:hover {\n",
              "      background-color: #434B5C;\n",
              "      box-shadow: 0px 1px 3px 1px rgba(0, 0, 0, 0.15);\n",
              "      filter: drop-shadow(0px 1px 2px rgba(0, 0, 0, 0.3));\n",
              "      fill: #FFFFFF;\n",
              "    }\n",
              "  </style>\n",
              "\n",
              "      <script>\n",
              "        const buttonEl =\n",
              "          document.querySelector('#df-355b134c-8b39-4314-8132-e9ced587f441 button.colab-df-convert');\n",
              "        buttonEl.style.display =\n",
              "          google.colab.kernel.accessAllowed ? 'block' : 'none';\n",
              "\n",
              "        async function convertToInteractive(key) {\n",
              "          const element = document.querySelector('#df-355b134c-8b39-4314-8132-e9ced587f441');\n",
              "          const dataTable =\n",
              "            await google.colab.kernel.invokeFunction('convertToInteractive',\n",
              "                                                     [key], {});\n",
              "          if (!dataTable) return;\n",
              "\n",
              "          const docLinkHtml = 'Like what you see? Visit the ' +\n",
              "            '<a target=\"_blank\" href=https://colab.research.google.com/notebooks/data_table.ipynb>data table notebook</a>'\n",
              "            + ' to learn more about interactive tables.';\n",
              "          element.innerHTML = '';\n",
              "          dataTable['output_type'] = 'display_data';\n",
              "          await google.colab.output.renderOutput(dataTable, element);\n",
              "          const docLink = document.createElement('div');\n",
              "          docLink.innerHTML = docLinkHtml;\n",
              "          element.appendChild(docLink);\n",
              "        }\n",
              "      </script>\n",
              "    </div>\n",
              "  </div>\n",
              "  "
            ]
          },
          "metadata": {},
          "execution_count": 17
        }
      ],
      "source": [
        "Y=df.iloc[:,7:8]\n",
        "Y"
      ]
    },
    {
      "cell_type": "code",
      "execution_count": 52,
      "id": "ff7459e7",
      "metadata": {
        "id": "ff7459e7"
      },
      "outputs": [],
      "source": [
        "import numpy as np\n",
        "import matplotlib.pyplot as mtp  \n",
        "import pandas as pd  \n",
        "  \n",
        "  \n",
        "# Splitting the dataset into training and test set.  \n",
        "from sklearn.model_selection import train_test_split  \n",
        "x_train, x_test, y_train, y_test= train_test_split(X, Y, test_size= 0.45, random_state=0)  \n",
        "  \n",
        "# feature Scaling  \n",
        "from sklearn.preprocessing import StandardScaler    \n",
        "st_x= StandardScaler()  \n",
        "x_train= st_x.fit_transform(x_train)    \n",
        "x_test= st_x.transform(x_test)    "
      ]
    },
    {
      "cell_type": "code",
      "execution_count": 53,
      "id": "a3bcd5cf",
      "metadata": {
        "colab": {
          "base_uri": "https://localhost:8080/",
          "height": 75
        },
        "id": "a3bcd5cf",
        "outputId": "27b9b2d3-e297-4ac2-a389-ecdd286f8b24"
      },
      "outputs": [
        {
          "output_type": "execute_result",
          "data": {
            "text/plain": [
              "DecisionTreeClassifier(criterion='entropy', random_state=0)"
            ],
            "text/html": [
              "<style>#sk-container-id-5 {color: black;background-color: white;}#sk-container-id-5 pre{padding: 0;}#sk-container-id-5 div.sk-toggleable {background-color: white;}#sk-container-id-5 label.sk-toggleable__label {cursor: pointer;display: block;width: 100%;margin-bottom: 0;padding: 0.3em;box-sizing: border-box;text-align: center;}#sk-container-id-5 label.sk-toggleable__label-arrow:before {content: \"▸\";float: left;margin-right: 0.25em;color: #696969;}#sk-container-id-5 label.sk-toggleable__label-arrow:hover:before {color: black;}#sk-container-id-5 div.sk-estimator:hover label.sk-toggleable__label-arrow:before {color: black;}#sk-container-id-5 div.sk-toggleable__content {max-height: 0;max-width: 0;overflow: hidden;text-align: left;background-color: #f0f8ff;}#sk-container-id-5 div.sk-toggleable__content pre {margin: 0.2em;color: black;border-radius: 0.25em;background-color: #f0f8ff;}#sk-container-id-5 input.sk-toggleable__control:checked~div.sk-toggleable__content {max-height: 200px;max-width: 100%;overflow: auto;}#sk-container-id-5 input.sk-toggleable__control:checked~label.sk-toggleable__label-arrow:before {content: \"▾\";}#sk-container-id-5 div.sk-estimator input.sk-toggleable__control:checked~label.sk-toggleable__label {background-color: #d4ebff;}#sk-container-id-5 div.sk-label input.sk-toggleable__control:checked~label.sk-toggleable__label {background-color: #d4ebff;}#sk-container-id-5 input.sk-hidden--visually {border: 0;clip: rect(1px 1px 1px 1px);clip: rect(1px, 1px, 1px, 1px);height: 1px;margin: -1px;overflow: hidden;padding: 0;position: absolute;width: 1px;}#sk-container-id-5 div.sk-estimator {font-family: monospace;background-color: #f0f8ff;border: 1px dotted black;border-radius: 0.25em;box-sizing: border-box;margin-bottom: 0.5em;}#sk-container-id-5 div.sk-estimator:hover {background-color: #d4ebff;}#sk-container-id-5 div.sk-parallel-item::after {content: \"\";width: 100%;border-bottom: 1px solid gray;flex-grow: 1;}#sk-container-id-5 div.sk-label:hover label.sk-toggleable__label {background-color: #d4ebff;}#sk-container-id-5 div.sk-serial::before {content: \"\";position: absolute;border-left: 1px solid gray;box-sizing: border-box;top: 0;bottom: 0;left: 50%;z-index: 0;}#sk-container-id-5 div.sk-serial {display: flex;flex-direction: column;align-items: center;background-color: white;padding-right: 0.2em;padding-left: 0.2em;position: relative;}#sk-container-id-5 div.sk-item {position: relative;z-index: 1;}#sk-container-id-5 div.sk-parallel {display: flex;align-items: stretch;justify-content: center;background-color: white;position: relative;}#sk-container-id-5 div.sk-item::before, #sk-container-id-5 div.sk-parallel-item::before {content: \"\";position: absolute;border-left: 1px solid gray;box-sizing: border-box;top: 0;bottom: 0;left: 50%;z-index: -1;}#sk-container-id-5 div.sk-parallel-item {display: flex;flex-direction: column;z-index: 1;position: relative;background-color: white;}#sk-container-id-5 div.sk-parallel-item:first-child::after {align-self: flex-end;width: 50%;}#sk-container-id-5 div.sk-parallel-item:last-child::after {align-self: flex-start;width: 50%;}#sk-container-id-5 div.sk-parallel-item:only-child::after {width: 0;}#sk-container-id-5 div.sk-dashed-wrapped {border: 1px dashed gray;margin: 0 0.4em 0.5em 0.4em;box-sizing: border-box;padding-bottom: 0.4em;background-color: white;}#sk-container-id-5 div.sk-label label {font-family: monospace;font-weight: bold;display: inline-block;line-height: 1.2em;}#sk-container-id-5 div.sk-label-container {text-align: center;}#sk-container-id-5 div.sk-container {/* jupyter's `normalize.less` sets `[hidden] { display: none; }` but bootstrap.min.css set `[hidden] { display: none !important; }` so we also need the `!important` here to be able to override the default hidden behavior on the sphinx rendered scikit-learn.org. See: https://github.com/scikit-learn/scikit-learn/issues/21755 */display: inline-block !important;position: relative;}#sk-container-id-5 div.sk-text-repr-fallback {display: none;}</style><div id=\"sk-container-id-5\" class=\"sk-top-container\"><div class=\"sk-text-repr-fallback\"><pre>DecisionTreeClassifier(criterion=&#x27;entropy&#x27;, random_state=0)</pre><b>In a Jupyter environment, please rerun this cell to show the HTML representation or trust the notebook. <br />On GitHub, the HTML representation is unable to render, please try loading this page with nbviewer.org.</b></div><div class=\"sk-container\" hidden><div class=\"sk-item\"><div class=\"sk-estimator sk-toggleable\"><input class=\"sk-toggleable__control sk-hidden--visually\" id=\"sk-estimator-id-5\" type=\"checkbox\" checked><label for=\"sk-estimator-id-5\" class=\"sk-toggleable__label sk-toggleable__label-arrow\">DecisionTreeClassifier</label><div class=\"sk-toggleable__content\"><pre>DecisionTreeClassifier(criterion=&#x27;entropy&#x27;, random_state=0)</pre></div></div></div></div></div>"
            ]
          },
          "metadata": {},
          "execution_count": 53
        }
      ],
      "source": [
        "from sklearn.tree import DecisionTreeClassifier  \n",
        "classifier= DecisionTreeClassifier(criterion='entropy', random_state=0)  \n",
        "classifier.fit(x_train, y_train)  "
      ]
    },
    {
      "cell_type": "code",
      "execution_count": 54,
      "id": "a56ead75",
      "metadata": {
        "id": "a56ead75"
      },
      "outputs": [],
      "source": [
        "y_pred= classifier.predict(x_test)  "
      ]
    },
    {
      "cell_type": "code",
      "execution_count": 55,
      "id": "7ac82f81",
      "metadata": {
        "colab": {
          "base_uri": "https://localhost:8080/"
        },
        "id": "7ac82f81",
        "outputId": "9d9e4174-4bec-4018-9af1-f94f35f9d926"
      },
      "outputs": [
        {
          "output_type": "execute_result",
          "data": {
            "text/plain": [
              "numpy.ndarray"
            ]
          },
          "metadata": {},
          "execution_count": 55
        }
      ],
      "source": [
        "type(y_pred)"
      ]
    },
    {
      "cell_type": "code",
      "execution_count": 56,
      "id": "693f77c7",
      "metadata": {
        "id": "693f77c7"
      },
      "outputs": [],
      "source": [
        "y_test=np.array(y_test)"
      ]
    },
    {
      "cell_type": "code",
      "execution_count": 57,
      "id": "7dd26560",
      "metadata": {
        "colab": {
          "base_uri": "https://localhost:8080/"
        },
        "id": "7dd26560",
        "outputId": "8dca30dd-8ce8-43f4-eeb4-11d530553a8a"
      },
      "outputs": [
        {
          "output_type": "execute_result",
          "data": {
            "text/plain": [
              "array(['$99 ', '$199 ', '729', '$249 ', '$189 ', '699', '$329 ', '$149 ',\n",
              "       '$159 ', '1049', '1199', '130', '799', '299', '$369 ', '$149 ',\n",
              "       '449', '249', '449', '$139 ', '$199 ', '199', '399', '$279 ',\n",
              "       '$299 ', '$339 ', '$549 ', '499', '729', '399', '$149 ', '1199',\n",
              "       '$299 ', '749', '399', '$149 ', '299', '$279 ', '279', '$469 ',\n",
              "       '$149 ', '399', '329', '249', '999', '$329 ', '799', '$299 ',\n",
              "       '$449 ', '$229 ', '$199 ', '349', '499', '1099', '399', '$139 ',\n",
              "       '$159 ', '599', '1099', '$199 ', '$399 ', '130', '699', '799',\n",
              "       '449', '$699 ', '299', '279', '$179 ', '$239 ', '$799 ', '$199 ',\n",
              "       '649', '$329 ', '$249 ', '$269 ', '499', '$199 ', '$199 ', '$699 ',\n",
              "       '499', '$339 ', '$239 ', '$159 ', '$999 ', '$279 ', '249', '$349 ',\n",
              "       '$249 ', '159', '199', '189', '130', '$179 ', '349', '799',\n",
              "       '$269 ', '$299 ', '199', '729', '399', '$299 ', '130', '$149 ',\n",
              "       '$249 ', '$549 ', '$149 ', '1099', '$299 ', '189', '$279 ', '399',\n",
              "       '899', '$899 ', '$109 ', '$179 ', '$109 ', '$279 ', '$449 ',\n",
              "       '$249 ', '$899 ', '279', '$279 ', '$239 ', '$239 ', '$249 ',\n",
              "       '$189 ', '$249 ', '299', '279', '449', '$99 ', '$699 ', '$279 ',\n",
              "       '$179 ', '$399 ', '$179 ', '$249 ', '$139 ', '$799 ', '$149 ',\n",
              "       '$179 ', '$269 ', '699', '$249 ', '279', '$139 ', '279', '969',\n",
              "       '$469 ', '$179 ', '$179 ', '$199 ', '799', '$249 ', '179', '$449 ',\n",
              "       '699', '$279 ', '$249 ', '369', '$469 ', '179', '$129 ', '$469 ',\n",
              "       '$229 ', '279', '$449 ', '$249 ', '$239 ', '$249 ', '$999 ',\n",
              "       '$179 ', '279', '$269 ', '$199 ', '$449 ', '449', '799', '$199 ',\n",
              "       '699', '799', '$369 ', '399'], dtype=object)"
            ]
          },
          "metadata": {},
          "execution_count": 57
        }
      ],
      "source": [
        "y_pred=np.array(y_pred)\n",
        "y_pred"
      ]
    },
    {
      "cell_type": "code",
      "execution_count": 58,
      "id": "3e119c8a",
      "metadata": {
        "colab": {
          "base_uri": "https://localhost:8080/"
        },
        "id": "3e119c8a",
        "outputId": "430a899e-d481-4ce9-b9c7-e2e8bc07fc8f"
      },
      "outputs": [
        {
          "output_type": "execute_result",
          "data": {
            "text/plain": [
              "array(['$99 '], dtype=object)"
            ]
          },
          "metadata": {},
          "execution_count": 58
        }
      ],
      "source": [
        "y_test=np.array(y_test)\n",
        "type(y_test)\n",
        "y_test[0]"
      ]
    },
    {
      "cell_type": "markdown",
      "id": "9038272c",
      "metadata": {
        "id": "9038272c"
      },
      "source": [
        "y_test"
      ]
    },
    {
      "cell_type": "code",
      "execution_count": 59,
      "id": "ae0ba1d9",
      "metadata": {
        "id": "ae0ba1d9"
      },
      "outputs": [],
      "source": [
        "y_test=y_test.flatten()"
      ]
    },
    {
      "cell_type": "code",
      "execution_count": 60,
      "id": "d6ae8149",
      "metadata": {
        "colab": {
          "base_uri": "https://localhost:8080/"
        },
        "id": "d6ae8149",
        "outputId": "a49a9f51-253a-4424-c6f8-af9f7cf61624"
      },
      "outputs": [
        {
          "output_type": "execute_result",
          "data": {
            "text/plain": [
              "array(['99 ', '179 ', '659', '289 ', '199 ', '499', '329 ', '139 ',\n",
              "       '149 ', '999 ', '999', '149 ', '999', '399', '329', '149 ', '449',\n",
              "       '219 ', '399', '399 ', '219 ', '229', '599', '299 ', '199', '279 ',\n",
              "       '549 ', '499', '329', '349', '149 ', '1399', '199 ', '599', '399',\n",
              "       '139', '449', '399 ', '229', '459', '149 ', '249', '279', '179 ',\n",
              "       '999', '1199', '749', '199', '429', '229 ', '189 ', '329', '699',\n",
              "       '1399', '229', '699 ', '149 ', '299', '1099', '169', '329', '139',\n",
              "       '699', '799 ', '399', '799', '599', '329 ', '179', '249 ', '799',\n",
              "       '219 ', '649', '319 ', '249', '249', '499', '179', '139', '1199',\n",
              "       '599', '319 ', '219 ', '159', '799', '239', '239', '499 ', '279 ',\n",
              "       '179 ', '229 ', '199 ', '119', '279', '329', '799', '269 ', '309 ',\n",
              "       '199', '699', '329', '249 ', '139 ', '149 ', '179 ', '449 ',\n",
              "       '139 ', '699', '269', '169 ', '199 ', '399', '699', '329 ', '99 ',\n",
              "       '179', '99 ', '229 ', '279 ', '169 ', '899 ', '329 ', '279',\n",
              "       '209 ', '279 ', '179', '179', '199 ', '299', '319 ', '449 ', '99 ',\n",
              "       '849 ', '249 ', '219 ', '359', '279 ', '179', '299 ', '799',\n",
              "       '119 ', '279', '199', '699', '249 ', '449', '399 ', '249 ', '969 ',\n",
              "       '399 ', '199 ', '179', '179 ', '999', '199 ', '149', '999 ', '749',\n",
              "       '399 ', '159 ', '399 ', '499 ', '229', '279 ', '449 ', '259',\n",
              "       '329', '499 ', '279', '219 ', '249 ', '699 ', '199', '449 ',\n",
              "       '299 ', '149 ', '299 ', '449', '1099', '149 ', '699 ', '899',\n",
              "       '369', '419'], dtype=object)"
            ]
          },
          "metadata": {},
          "execution_count": 60
        }
      ],
      "source": [
        "#classifier.score(y_test,y_pred)\n",
        "for i in range(len(y_test)):\n",
        "    a=\"\"\n",
        "    s=y_test[i]\n",
        "    for j in range(len(s)):\n",
        "        if(s[j]!='$' and s[j]!=','):\n",
        "            a=a+s[j]\n",
        "    y_test[i]=a\n",
        "y_test "
      ]
    },
    {
      "cell_type": "code",
      "execution_count": 61,
      "id": "869bb47d",
      "metadata": {
        "colab": {
          "base_uri": "https://localhost:8080/"
        },
        "id": "869bb47d",
        "outputId": "945cee4f-e37c-42f9-aa27-48bdd41edbb2"
      },
      "outputs": [
        {
          "output_type": "execute_result",
          "data": {
            "text/plain": [
              "array(['99 ', '199 ', '729', '249 ', '189 ', '699', '329 ', '149 ',\n",
              "       '159 ', '1049', '1199', '130', '799', '299', '369 ', '149 ', '449',\n",
              "       '249', '449', '139 ', '199 ', '199', '399', '279 ', '299 ', '339 ',\n",
              "       '549 ', '499', '729', '399', '149 ', '1199', '299 ', '749', '399',\n",
              "       '149 ', '299', '279 ', '279', '469 ', '149 ', '399', '329', '249',\n",
              "       '999', '329 ', '799', '299 ', '449 ', '229 ', '199 ', '349', '499',\n",
              "       '1099', '399', '139 ', '159 ', '599', '1099', '199 ', '399 ',\n",
              "       '130', '699', '799', '449', '699 ', '299', '279', '179 ', '239 ',\n",
              "       '799 ', '199 ', '649', '329 ', '249 ', '269 ', '499', '199 ',\n",
              "       '199 ', '699 ', '499', '339 ', '239 ', '159 ', '999 ', '279 ',\n",
              "       '249', '349 ', '249 ', '159', '199', '189', '130', '179 ', '349',\n",
              "       '799', '269 ', '299 ', '199', '729', '399', '299 ', '130', '149 ',\n",
              "       '249 ', '549 ', '149 ', '1099', '299 ', '189', '279 ', '399',\n",
              "       '899', '899 ', '109 ', '179 ', '109 ', '279 ', '449 ', '249 ',\n",
              "       '899 ', '279', '279 ', '239 ', '239 ', '249 ', '189 ', '249 ',\n",
              "       '299', '279', '449', '99 ', '699 ', '279 ', '179 ', '399 ', '179 ',\n",
              "       '249 ', '139 ', '799 ', '149 ', '179 ', '269 ', '699', '249 ',\n",
              "       '279', '139 ', '279', '969', '469 ', '179 ', '179 ', '199 ', '799',\n",
              "       '249 ', '179', '449 ', '699', '279 ', '249 ', '369', '469 ', '179',\n",
              "       '129 ', '469 ', '229 ', '279', '449 ', '249 ', '239 ', '249 ',\n",
              "       '999 ', '179 ', '279', '269 ', '199 ', '449 ', '449', '799',\n",
              "       '199 ', '699', '799', '369 ', '399'], dtype=object)"
            ]
          },
          "metadata": {},
          "execution_count": 61
        }
      ],
      "source": [
        "for i in range(len(y_pred)):\n",
        "    a=\"\"\n",
        "    s=y_pred[i]\n",
        "    for j in range(len(s)):\n",
        "        if(s[j]!='$' and s[j]!=','):\n",
        "            a=a+s[j]\n",
        "    y_pred[i]=a\n",
        "y_pred"
      ]
    },
    {
      "cell_type": "code",
      "execution_count": 62,
      "id": "34d9962f",
      "metadata": {
        "colab": {
          "base_uri": "https://localhost:8080/"
        },
        "id": "34d9962f",
        "outputId": "de4189ab-55d1-40ad-a3b3-145938ff3e32"
      },
      "outputs": [
        {
          "output_type": "execute_result",
          "data": {
            "text/plain": [
              "0.7248925279101981"
            ]
          },
          "metadata": {},
          "execution_count": 62
        }
      ],
      "source": [
        "from sklearn.metrics import r2_score\n",
        "r2_score(y_test,y_pred)"
      ]
    },
    {
      "cell_type": "code",
      "execution_count": 51,
      "id": "ccfb4757",
      "metadata": {
        "id": "ccfb4757"
      },
      "outputs": [],
      "source": []
    }
  ],
  "metadata": {
    "kernelspec": {
      "display_name": "Python 3 (ipykernel)",
      "language": "python",
      "name": "python3"
    },
    "language_info": {
      "codemirror_mode": {
        "name": "ipython",
        "version": 3
      },
      "file_extension": ".py",
      "mimetype": "text/x-python",
      "name": "python",
      "nbconvert_exporter": "python",
      "pygments_lexer": "ipython3",
      "version": "3.9.7"
    },
    "colab": {
      "provenance": [],
      "include_colab_link": true
    }
  },
  "nbformat": 4,
  "nbformat_minor": 5
}